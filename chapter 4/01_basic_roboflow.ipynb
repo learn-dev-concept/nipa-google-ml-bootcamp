{
 "cells": [
  {
   "cell_type": "code",
   "execution_count": 1,
   "id": "3853b7bd",
   "metadata": {},
   "outputs": [],
   "source": [
    "# Roboflow"
   ]
  },
  {
   "cell_type": "code",
   "execution_count": null,
   "id": "c710241f",
   "metadata": {},
   "outputs": [
    {
     "name": "stderr",
     "output_type": "stream",
     "text": [
      "TqdmWarning: IProgress not found. Please update jupyter and ipywidgets. See https://ipywidgets.readthedocs.io/en/stable/user_install.html\n"
     ]
    },
    {
     "name": "stdout",
     "output_type": "stream",
     "text": [
      "{'inference_id': '56446144-fc27-4273-951a-4267772ba571', 'time': 0.04650709699944855, 'image': {'width': 416, 'height': 416}, 'predictions': [{'x': 193.5, 'y': 219.5, 'width': 17.0, 'height': 23.0, 'confidence': 0.9138475656509399, 'class': '8', 'class_id': 8, 'detection_id': 'af68e3d1-a116-4ed1-8439-d325f061ff6f'}, {'x': 141.0, 'y': 208.0, 'width': 26.0, 'height': 34.0, 'confidence': 0.759955108165741, 'class': '8', 'class_id': 8, 'detection_id': '08ee835b-2e65-411a-937e-33b25c8fa857'}, {'x': 240.0, 'y': 362.5, 'width': 68.0, 'height': 57.0, 'confidence': 0.6914031505584717, 'class': '2', 'class_id': 2, 'detection_id': '4820423b-d627-451a-9b5b-934c25366143'}]}\n"
     ]
    }
   ],
   "source": [
    "## HTTPClient로 추론하기\n",
    "\n",
    "from inference_sdk import InferenceHTTPClient\n",
    "CLIENT = InferenceHTTPClient(\n",
    "    api_url=\"https://detect.roboflow.com\",\n",
    "    api_key=\"TkYYNlQBnR2sSqe4RBLt\"\n",
    ")\n",
    "filename = 'number.jpg'\n",
    "result = CLIENT.infer(filename, model_id=\"numbers-doqnw/3\")\n",
    "print(result)"
   ]
  },
  {
   "cell_type": "code",
   "execution_count": null,
   "id": "699a5e60",
   "metadata": {},
   "outputs": [
    {
     "ename": "",
     "evalue": "",
     "output_type": "error",
     "traceback": [
      "\u001b[1;31m현재 셀 또는 이전 셀에서 코드를 실행하는 동안 Kernel이 충돌했습니다. \n",
      "\u001b[1;31m셀의 코드를 검토하여 가능한 오류 원인을 식별하세요. \n",
      "\u001b[1;31m자세한 내용을 보려면 <a href='https://aka.ms/vscodeJupyterKernelCrash'>여기</a>를 클릭하세요. \n",
      "\u001b[1;31m자세한 내용은 Jupyter <a href='command:jupyter.viewOutput'>로그</a>를 참조하세요."
     ]
    }
   ],
   "source": [
    "import cv2\n",
    " \n",
    "img = cv2.imread(filename)\n",
    "for pred in result[\"predictions\"]:\n",
    "    x, y = pred['x'], pred['y']\n",
    "    width, height = pred['width'], pred['height']\n",
    "    conf = pred['confidence']\n",
    "    cls = pred['class']\n",
    "    x1, y1 = int(x-width/2), int(y-height/2)\n",
    "    x2, y2 = int(x+width/2), int(y+height/2)\n",
    "    cv2.rectangle(img, (x1,y1), (x2, y2), (0,0,255), 2)\n",
    "    cv2.putText(img, f'{cls} {conf:.4f}', (x1,y1), cv2.FONT_HERSHEY_PLAIN, 1, (0,0,255))\n",
    " \n",
    "cv2.imshow('image', img)\n",
    "cv2.waitKey()\n",
    "cv2.destroyAllWindows()"
   ]
  },
  {
   "cell_type": "code",
   "execution_count": 2,
   "id": "870c2db8",
   "metadata": {},
   "outputs": [
    {
     "name": "stdout",
     "output_type": "stream",
     "text": [
      "loading Roboflow workspace...\n",
      "loading Roboflow project...\n"
     ]
    }
   ],
   "source": [
    "## 로컬에서 추론하기\n",
    "\n",
    "from roboflow import Roboflow\n",
    " \n",
    "rf = Roboflow(api_key=\"TkYYNlQBnR2sSqe4RBLt\")\n",
    "project = rf.workspace().project(\"numbers-doqnw\")\n",
    "model = project.version(3).model\n",
    " \n",
    "filename = 'number.jpg'\n",
    "result = model.predict(filename).json()"
   ]
  },
  {
   "cell_type": "code",
   "execution_count": 3,
   "id": "daf67a07",
   "metadata": {},
   "outputs": [
    {
     "name": "stdout",
     "output_type": "stream",
     "text": [
      "<class 'roboflow.util.prediction.PredictionGroup'>\n"
     ]
    }
   ],
   "source": [
    "print(type(model.predict(filename)))"
   ]
  },
  {
   "cell_type": "code",
   "execution_count": null,
   "id": "f2dd45b5",
   "metadata": {},
   "outputs": [],
   "source": [
    "import cv2\n",
    "\n",
    "img = cv2.imread(filename)\n",
    "img_height, img_width = img.shape[:2]\n",
    "x_ratio, y_ratio = 640/img_width, 640/img_height\n",
    "print(img_width, img_height, x_ratio, y_ratio)\n",
    "for pred in result[\"predictions\"]:\n",
    "    x, y = pred['x'], pred['y']\n",
    "    width, height = pred['width'], pred['height']\n",
    "    conf, cls = pred['confidence'], pred['class']\n",
    "    x1, y1 = int(x-width/2), int(y-height/2)\n",
    "    x2, y2 = int(x+width/2), int(y+height/2)\n",
    "    x1, x2 = int(x1*x_ratio), int(x2*x_ratio)\n",
    "    y1, y2 = int(y1*y_ratio), int(y2*y_ratio)\n",
    "    cv2.rectangle(img, (x1,y1), (x2, y2), (0,0,255), 2)\n",
    "    cv2.putText(img, f'{cls} {conf:.4f}', (x1,y1), cv2.FONT_HERSHEY_PLAIN, 1, (0,0,255))\n",
    "cv2.imshow('image', img)\n",
    "cv2.waitKey()\n",
    "cv2.destroyAllWindows()"
   ]
  }
 ],
 "metadata": {
  "kernelspec": {
   "display_name": ".venv (3.11.13)",
   "language": "python",
   "name": "python3"
  },
  "language_info": {
   "codemirror_mode": {
    "name": "ipython",
    "version": 3
   },
   "file_extension": ".py",
   "mimetype": "text/x-python",
   "name": "python",
   "nbconvert_exporter": "python",
   "pygments_lexer": "ipython3",
   "version": "3.11.13"
  }
 },
 "nbformat": 4,
 "nbformat_minor": 5
}
