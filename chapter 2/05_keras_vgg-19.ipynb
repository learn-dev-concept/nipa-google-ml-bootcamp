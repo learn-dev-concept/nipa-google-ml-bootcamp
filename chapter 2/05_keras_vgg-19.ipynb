{
 "cells": [
  {
   "cell_type": "code",
   "execution_count": 1,
   "id": "398b35b7",
   "metadata": {},
   "outputs": [],
   "source": [
    "# VGG-19 모델 구현"
   ]
  },
  {
   "cell_type": "code",
   "execution_count": 2,
   "id": "570f1ccd",
   "metadata": {},
   "outputs": [],
   "source": [
    "from tensorflow.keras.models import Sequential\n",
    "from tensorflow.keras.layers import Dense, Flatten\n",
    "from tensorflow.keras.layers import Conv2D, MaxPooling2D\n",
    "from tensorflow.keras.initializers import RandomNormal\n",
    "\n",
    "class VGG19:\n",
    "    @staticmethod\n",
    "    def build(input_shape=(224,224,3), activation='relu'):\n",
    "        model = Sequential()\n",
    "        \n",
    "        model.add(Conv2D(64, (3,3), input_shape=input_shape, \n",
    "                        activation=activation, padding=\"same\"))\n",
    "        model.add(Conv2D(64, (3,3), activation=activation, padding=\"same\"))\n",
    "        model.add(MaxPooling2D(pool_size=(2,2)))\n",
    "\n",
    "        model.add(Conv2D(128, (3,3), activation=activation, padding=\"same\"))\n",
    "        model.add(Conv2D(128, (3,3), activation=activation, padding=\"same\"))\n",
    "        model.add(MaxPooling2D(pool_size=(2,2)))\n",
    "\n",
    "        model.add(Conv2D(256, (3,3), activation=activation, padding=\"same\"))\n",
    "        model.add(Conv2D(256, (3,3), activation=activation, padding=\"same\"))\n",
    "        model.add(Conv2D(256, (3,3), activation=activation, padding=\"same\"))\n",
    "        model.add(Conv2D(256, (3,3), activation=activation, padding=\"same\"))\n",
    "        model.add(MaxPooling2D(pool_size=(2,2)))\n",
    "\n",
    "        model.add(Conv2D(512, (3,3), activation=activation, padding=\"same\"))\n",
    "        model.add(Conv2D(512, (3,3), activation=activation, padding=\"same\"))\n",
    "        model.add(Conv2D(512, (3,3), activation=activation, padding=\"same\"))\n",
    "        model.add(Conv2D(512, (3,3), activation=activation, padding=\"same\"))\n",
    "        model.add(MaxPooling2D(pool_size=(2,2)))      \n",
    "        model.add(Conv2D(512, (3,3), activation=activation, padding=\"same\"))\n",
    "        model.add(Conv2D(512, (3,3), activation=activation, padding=\"same\"))\n",
    "        model.add(Conv2D(512, (3,3), activation=activation, padding=\"same\"))\n",
    "        model.add(Conv2D(512, (3,3), activation=activation, padding=\"same\"))\n",
    "        model.add(MaxPooling2D(pool_size=(2,2)))\n",
    "        \n",
    "        model.add(Flatten())\n",
    "        model.add(Dense(4096, activation=activation))\n",
    "        model.add(Dense(4096, activation=activation))\n",
    "        model.add(Dense(1000, activation='softmax'))\n",
    "\n",
    "        return model\n"
   ]
  },
  {
   "cell_type": "code",
   "execution_count": 3,
   "id": "227d6272",
   "metadata": {},
   "outputs": [
    {
     "name": "stderr",
     "output_type": "stream",
     "text": [
      "/Users/shu/Desktop/Source Code/tensorflow/nipa-google-ml-bootcamp/.venv/lib/python3.11/site-packages/keras/src/layers/convolutional/base_conv.py:113: UserWarning: Do not pass an `input_shape`/`input_dim` argument to a layer. When using Sequential models, prefer using an `Input(shape)` object as the first layer in the model instead.\n",
      "  super().__init__(activity_regularizer=activity_regularizer, **kwargs)\n",
      "2025-09-16 19:56:30.345091: I metal_plugin/src/device/metal_device.cc:1154] Metal device set to: Apple M4 Pro\n",
      "2025-09-16 19:56:30.345122: I metal_plugin/src/device/metal_device.cc:296] systemMemory: 24.00 GB\n",
      "2025-09-16 19:56:30.345132: I metal_plugin/src/device/metal_device.cc:313] maxCacheSize: 8.00 GB\n",
      "2025-09-16 19:56:30.345151: I tensorflow/core/common_runtime/pluggable_device/pluggable_device_factory.cc:305] Could not identify NUMA node of platform GPU ID 0, defaulting to 0. Your kernel may not have been built with NUMA support.\n",
      "2025-09-16 19:56:30.345166: I tensorflow/core/common_runtime/pluggable_device/pluggable_device_factory.cc:271] Created TensorFlow device (/job:localhost/replica:0/task:0/device:GPU:0 with 0 MB memory) -> physical PluggableDevice (device: 0, name: METAL, pci bus id: <undefined>)\n"
     ]
    }
   ],
   "source": [
    "model = VGG19.build()"
   ]
  },
  {
   "cell_type": "code",
   "execution_count": 4,
   "id": "3df0645b",
   "metadata": {},
   "outputs": [],
   "source": [
    "from tensorflow.keras.applications.vgg19 import VGG19\n",
    "vgg = VGG19() # model & weights\n",
    "weights = vgg.get_weights()\n",
    "\n",
    "model.set_weights(weights)"
   ]
  },
  {
   "cell_type": "code",
   "execution_count": 5,
   "id": "c40757ed",
   "metadata": {},
   "outputs": [
    {
     "name": "stdout",
     "output_type": "stream",
     "text": [
      "before reshape: (224, 224, 3)\n",
      "after reshape: (1, 224, 224, 3)\n",
      "\u001b[1m1/1\u001b[0m \u001b[32m━━━━━━━━━━━━━━━━━━━━\u001b[0m\u001b[37m\u001b[0m \u001b[1m0s\u001b[0m 111ms/step\n",
      "[[('n02099712', 'Labrador_retriever', 1.0), ('n02109047', 'Great_Dane', 7.984238e-14), ('n02091831', 'Saluki', 8.913037e-23)]]\n"
     ]
    },
    {
     "name": "stderr",
     "output_type": "stream",
     "text": [
      "2025-09-16 19:56:31.726988: I tensorflow/core/grappler/optimizers/custom_graph_optimizer_registry.cc:117] Plugin optimizer for device_type GPU is enabled.\n"
     ]
    }
   ],
   "source": [
    "from tensorflow.keras.preprocessing import image\n",
    "img = image.load_img(\"sample.jpg\", target_size=(224,224))\n",
    "img_data = image.img_to_array(img)\n",
    "print(\"before reshape:\", img_data.shape)\n",
    "import numpy as np\n",
    "img_data = img_data[np.newaxis, ...]\n",
    "print(\"after reshape:\", img_data.shape)\n",
    "\n",
    "pred = model.predict(img_data)\n",
    "from tensorflow.keras.applications.vgg19 import decode_predictions\n",
    "print(decode_predictions(pred, top=3))"
   ]
  }
 ],
 "metadata": {
  "kernelspec": {
   "display_name": ".venv (3.11.13)",
   "language": "python",
   "name": "python3"
  },
  "language_info": {
   "codemirror_mode": {
    "name": "ipython",
    "version": 3
   },
   "file_extension": ".py",
   "mimetype": "text/x-python",
   "name": "python",
   "nbconvert_exporter": "python",
   "pygments_lexer": "ipython3",
   "version": "3.11.13"
  }
 },
 "nbformat": 4,
 "nbformat_minor": 5
}
