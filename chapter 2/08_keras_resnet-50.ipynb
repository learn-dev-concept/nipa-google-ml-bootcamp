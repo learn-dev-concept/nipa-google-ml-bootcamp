{
 "cells": [
  {
   "cell_type": "code",
   "execution_count": 1,
   "id": "b3fddbda",
   "metadata": {},
   "outputs": [],
   "source": [
    "# ResNet50 모델 불러와 예측하기"
   ]
  },
  {
   "cell_type": "code",
   "execution_count": 2,
   "id": "ce704647",
   "metadata": {},
   "outputs": [
    {
     "name": "stderr",
     "output_type": "stream",
     "text": [
      "2025-09-16 22:00:49.640103: I metal_plugin/src/device/metal_device.cc:1154] Metal device set to: Apple M4 Pro\n",
      "2025-09-16 22:00:49.640120: I metal_plugin/src/device/metal_device.cc:296] systemMemory: 24.00 GB\n",
      "2025-09-16 22:00:49.640126: I metal_plugin/src/device/metal_device.cc:313] maxCacheSize: 8.00 GB\n",
      "2025-09-16 22:00:49.640137: I tensorflow/core/common_runtime/pluggable_device/pluggable_device_factory.cc:305] Could not identify NUMA node of platform GPU ID 0, defaulting to 0. Your kernel may not have been built with NUMA support.\n",
      "2025-09-16 22:00:49.640147: I tensorflow/core/common_runtime/pluggable_device/pluggable_device_factory.cc:271] Created TensorFlow device (/job:localhost/replica:0/task:0/device:GPU:0 with 0 MB memory) -> physical PluggableDevice (device: 0, name: METAL, pci bus id: <undefined>)\n"
     ]
    },
    {
     "name": "stdout",
     "output_type": "stream",
     "text": [
      "Downloading data from https://storage.googleapis.com/tensorflow/keras-applications/resnet/resnet50_weights_tf_dim_ordering_tf_kernels.h5\n",
      "\u001b[1m102967424/102967424\u001b[0m \u001b[32m━━━━━━━━━━━━━━━━━━━━\u001b[0m\u001b[37m\u001b[0m \u001b[1m4s\u001b[0m 0us/step\n"
     ]
    },
    {
     "name": "stderr",
     "output_type": "stream",
     "text": [
      "2025-09-16 22:00:55.137515: I tensorflow/core/grappler/optimizers/custom_graph_optimizer_registry.cc:117] Plugin optimizer for device_type GPU is enabled.\n"
     ]
    },
    {
     "name": "stdout",
     "output_type": "stream",
     "text": [
      "Predicted: [[('n02099712', 'Labrador_retriever', 0.28140223), ('n02108089', 'boxer', 0.11203233), ('n02099849', 'Chesapeake_Bay_retriever', 0.09061059)]]\n"
     ]
    }
   ],
   "source": [
    "from tensorflow.keras.applications import ResNet50\n",
    "from tensorflow.keras.preprocessing import image\n",
    "from tensorflow.keras.applications.resnet50 import decode_predictions\n",
    "import numpy as np\n",
    " \n",
    "model = ResNet50(weights='imagenet') # 처음 실행 시 모델이 다운로드됨\n",
    "\n",
    "# https://commons.wikimedia.org/wiki/File:YellowLabradorLooking_new.jpg\n",
    "img = image.load_img('sample.jpg',target_size=(224, 224))\n",
    "x = image.img_to_array(img)     # x.shape=(224,224,3)\n",
    "# x = np.expand_dims(x, axis=0)   # x.shape=(1,244,244,3)\n",
    "# x = x[np.newaxis, ...]  # 위와 동일\n",
    "x = x.reshape((-1,224,224,3)) # 위와 동일\n",
    "pred = model.predict(x, verbose=0)\n",
    "print('Predicted:', decode_predictions(pred, top=3))"
   ]
  }
 ],
 "metadata": {
  "kernelspec": {
   "display_name": ".venv (3.11.13)",
   "language": "python",
   "name": "python3"
  },
  "language_info": {
   "codemirror_mode": {
    "name": "ipython",
    "version": 3
   },
   "file_extension": ".py",
   "mimetype": "text/x-python",
   "name": "python",
   "nbconvert_exporter": "python",
   "pygments_lexer": "ipython3",
   "version": "3.11.13"
  }
 },
 "nbformat": 4,
 "nbformat_minor": 5
}
