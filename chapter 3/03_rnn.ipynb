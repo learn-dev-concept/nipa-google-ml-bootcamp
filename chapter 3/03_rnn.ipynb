{
 "cells": [
  {
   "cell_type": "code",
   "execution_count": null,
   "id": "37dc6acb",
   "metadata": {},
   "outputs": [],
   "source": [
    "# RNN"
   ]
  },
  {
   "cell_type": "code",
   "execution_count": null,
   "id": "b1d3f1b5",
   "metadata": {},
   "outputs": [],
   "source": [
    "## 데이터 불러오기\n",
    "from tensorflow.keras.datasets import imdb\n",
    "(X_train, y_train), (X_test, y_test) = imdb.load_data(num_words=10000) #Load the IMDB dataset\n",
    "print(\"Number of training samples:\", len(X_train))\n",
    "print(\"Number of test samples:\", len(X_test))\n",
    "print(X_test.shape, y_test.shape)\n",
    "\n"
   ]
  },
  {
   "cell_type": "code",
   "execution_count": null,
   "id": "847a035a",
   "metadata": {},
   "outputs": [],
   "source": [
    "from tensorflow.keras.preprocessing.sequence import pad_sequences\n",
    "X_train_pad = pad_sequences(X_train, maxlen=80, padding='post', truncating='post')\n",
    "X_test_pad = pad_sequences(X_test, maxlen=80, padding='post', truncating='post')"
   ]
  },
  {
   "cell_type": "code",
   "execution_count": null,
   "id": "5251e050",
   "metadata": {},
   "outputs": [],
   "source": [
    "## 영화평 숫자 배열을 텍스트로 변환해서 확인하기\n",
    "word_index = imdb.get_word_index()\n",
    "print(\"Word index size:\", len(word_index))\n",
    "print(type(word_index))\n",
    "\n",
    "reserve_word_index = {v: k for k, v in word_index.items()}  # Reverse the word index\n",
    "\n",
    "decoded_review = ' '.join([reserve_word_index.get(i - 3, '?') for i in X_train[0]])\n",
    "print(\"Decoded review:\", decoded_review)"
   ]
  },
  {
   "cell_type": "code",
   "execution_count": null,
   "id": "de0ac6d6",
   "metadata": {},
   "outputs": [],
   "source": [
    "## DNN을 이용한 영화평 분류 - 0.7653200030326843\n",
    "\n",
    "from tensorflow.keras.models import Sequential\n",
    "from tensorflow.keras.layers import Embedding, Dense, Input, Flatten\n",
    "\n",
    "model_dnn = Sequential()\n",
    "model_dnn.add(Input(shape=(80,)))\n",
    "model_dnn.add(Embedding(input_dim=10000, output_dim=32))\n",
    "model_dnn.add(Flatten())\n",
    "model_dnn.add(Dense(256, activation='relu'))\n",
    "model_dnn.add(Dense(2, activation='softmax'))\n",
    "model_dnn.summary()"
   ]
  },
  {
   "cell_type": "code",
   "execution_count": null,
   "id": "b3aaecb8",
   "metadata": {},
   "outputs": [],
   "source": [
    "model_dnn.compile(optimizer='adam', loss='sparse_categorical_crossentropy', metrics=['accuracy'])\n",
    "model_dnn.fit(X_train_pad, y_train, epochs=10, batch_size=64)"
   ]
  },
  {
   "cell_type": "code",
   "execution_count": null,
   "id": "9560fc65",
   "metadata": {},
   "outputs": [],
   "source": [
    "model_dnn.evaluate(X_test_pad, y_test)"
   ]
  },
  {
   "cell_type": "code",
   "execution_count": null,
   "id": "ff9c13a7",
   "metadata": {},
   "outputs": [],
   "source": [
    "## RNN을 이용한 영화평 분류 - 0.7666800022125244\n",
    "\n",
    "from tensorflow.keras import Sequential, layers\n",
    "model = Sequential([\n",
    "    layers.Input(shape=(80,)),\n",
    "    layers.Embedding(input_dim=10000, output_dim=32), # <OOV> 토큰, <PAD> 토큰\n",
    "    layers.SimpleRNN(64, activation='relu'),\n",
    "    layers.Dense(2, activation='softmax') # 부정 또는 긍정 확률값이 출력\n",
    "])\n",
    "model.summary()"
   ]
  },
  {
   "cell_type": "code",
   "execution_count": null,
   "id": "690a3d8b",
   "metadata": {},
   "outputs": [],
   "source": [
    "model.compile(optimizer='adam', loss='sparse_categorical_crossentropy', metrics=['accuracy'])\n",
    "model.fit(X_train_pad, y_train, epochs=10, batch_size=200)\n",
    "model.evaluate(X_test_pad, y_test)"
   ]
  },
  {
   "cell_type": "code",
   "execution_count": null,
   "id": "d14e018e",
   "metadata": {},
   "outputs": [],
   "source": [
    "## CNN을 이용한 영화평 분류 - 0.77183997631073\n",
    "\n",
    "model_cnn = Sequential([\n",
    "    layers.Input(shape=(80,)),\n",
    "    layers.Embedding(input_dim=10000, output_dim=32),\n",
    "    layers.Conv1D(64, 3, activation='relu'),\n",
    "    layers.GlobalMaxPooling1D(),\n",
    "    layers.Dense(2, activation='softmax')\n",
    "])\n",
    "model_cnn.summary()\n",
    "model_cnn.compile(optimizer='adam', loss='sparse_categorical_crossentropy', metrics=['accuracy'])\n",
    "model_cnn.fit(X_train_pad, y_train, epochs=10, batch_size=200)\n",
    "model_cnn.evaluate(X_test_pad, y_test)"
   ]
  },
  {
   "cell_type": "code",
   "execution_count": null,
   "id": "59d8cd98",
   "metadata": {},
   "outputs": [],
   "source": [
    "## RNN층 추가하기 - 0.7457200288772583\n",
    "\n",
    "from tensorflow.keras import Sequential, layers\n",
    "model = Sequential([\n",
    "    layers.Input(shape=(80,)),\n",
    "    layers.Embedding(input_dim=10000, output_dim=32), # <OOV> 토큰, <PAD> 토큰\n",
    "    layers.SimpleRNN(64, return_sequences=True, activation='relu'),\n",
    "    layers.SimpleRNN(128, activation='relu'),\n",
    "    layers.Dense(2, activation='softmax') # 부정 또는 긍정 확률값이 출력\n",
    "])\n",
    "model.summary()"
   ]
  },
  {
   "cell_type": "code",
   "execution_count": null,
   "id": "77cc7482",
   "metadata": {},
   "outputs": [],
   "source": [
    "model.compile(optimizer='adam', loss='sparse_categorical_crossentropy', metrics=['accuracy'])\n",
    "model.fit(X_train_pad, y_train, epochs=10, batch_size=200)\n",
    "model.evaluate(X_test_pad, y_test)"
   ]
  },
  {
   "cell_type": "code",
   "execution_count": null,
   "id": "2ce8dbb4",
   "metadata": {},
   "outputs": [],
   "source": []
  },
  {
   "cell_type": "code",
   "execution_count": null,
   "id": "6f7f03a3",
   "metadata": {},
   "outputs": [],
   "source": []
  },
  {
   "cell_type": "code",
   "execution_count": null,
   "id": "7c758b8c",
   "metadata": {},
   "outputs": [],
   "source": []
  },
  {
   "cell_type": "code",
   "execution_count": null,
   "id": "be7aa920",
   "metadata": {},
   "outputs": [],
   "source": []
  },
  {
   "cell_type": "code",
   "execution_count": null,
   "id": "f114968a",
   "metadata": {},
   "outputs": [],
   "source": []
  },
  {
   "cell_type": "code",
   "execution_count": null,
   "id": "7ad63998",
   "metadata": {},
   "outputs": [],
   "source": []
  },
  {
   "cell_type": "code",
   "execution_count": null,
   "id": "a317b201",
   "metadata": {},
   "outputs": [],
   "source": []
  },
  {
   "cell_type": "code",
   "execution_count": null,
   "id": "7ea206c9",
   "metadata": {},
   "outputs": [],
   "source": []
  }
 ],
 "metadata": {
  "kernelspec": {
   "display_name": ".venv (3.11.13)",
   "language": "python",
   "name": "python3"
  },
  "language_info": {
   "codemirror_mode": {
    "name": "ipython",
    "version": 3
   },
   "file_extension": ".py",
   "mimetype": "text/x-python",
   "name": "python",
   "nbconvert_exporter": "python",
   "pygments_lexer": "ipython3",
   "version": "3.11.13"
  }
 },
 "nbformat": 4,
 "nbformat_minor": 5
}
