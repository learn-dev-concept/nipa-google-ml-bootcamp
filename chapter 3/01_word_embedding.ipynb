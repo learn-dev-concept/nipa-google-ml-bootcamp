{
 "cells": [
  {
   "cell_type": "code",
   "execution_count": 19,
   "id": "33a0bc06",
   "metadata": {},
   "outputs": [],
   "source": [
    "# 워드 임베딩"
   ]
  },
  {
   "cell_type": "code",
   "execution_count": 20,
   "id": "5ebdbfc3",
   "metadata": {},
   "outputs": [],
   "source": [
    "## TF\n",
    "\n",
    "text = \"\"\"John likes to watch movies. Mary likes movies too. \n",
    "Mary also lines to watch football games.\n",
    "\"\"\""
   ]
  },
  {
   "cell_type": "code",
   "execution_count": 21,
   "id": "e068bc87",
   "metadata": {},
   "outputs": [
    {
     "name": "stdout",
     "output_type": "stream",
     "text": [
      "['John', 'likes', 'to', 'watch', 'movies', 'Mary', 'likes', 'movies', 'too', 'Mary', 'also', 'lines', 'to', 'watch', 'football', 'games']\n"
     ]
    }
   ],
   "source": [
    "words = text.replace('.', '').replace(',', '').split()\n",
    "print(words)\n"
   ]
  },
  {
   "cell_type": "code",
   "execution_count": 22,
   "id": "59fd3f8c",
   "metadata": {},
   "outputs": [
    {
     "name": "stdout",
     "output_type": "stream",
     "text": [
      "(array(['John', 'Mary', 'also', 'football', 'games', 'likes', 'lines',\n",
      "       'movies', 'to', 'too', 'watch'], dtype='<U8'), array([1, 2, 1, 1, 1, 2, 1, 2, 2, 1, 2]))\n"
     ]
    }
   ],
   "source": [
    "import numpy as np\n",
    "word_counts = np.unique(words, return_counts=True)\n",
    "print(word_counts)"
   ]
  },
  {
   "cell_type": "code",
   "execution_count": 23,
   "id": "54b11cde",
   "metadata": {},
   "outputs": [
    {
     "name": "stdout",
     "output_type": "stream",
     "text": [
      "{'John': 1, 'Mary': 2, 'also': 1, 'football': 1, 'games': 1, 'likes': 2, 'lines': 1, 'movies': 2, 'to': 2, 'too': 1, 'watch': 2}\n"
     ]
    }
   ],
   "source": [
    "word_to_cnt = {}\n",
    "for word, count in zip(*word_counts):\n",
    "    word_to_cnt[word] = count\n",
    "print(word_to_cnt)"
   ]
  },
  {
   "cell_type": "code",
   "execution_count": 24,
   "id": "93b1680e",
   "metadata": {},
   "outputs": [
    {
     "name": "stdout",
     "output_type": "stream",
     "text": [
      "1\n"
     ]
    }
   ],
   "source": [
    "# John의 빈도수\n",
    "print(word_to_cnt['John'])"
   ]
  },
  {
   "cell_type": "code",
   "execution_count": 25,
   "id": "38e79e92",
   "metadata": {},
   "outputs": [],
   "source": [
    "## TDM"
   ]
  },
  {
   "cell_type": "code",
   "execution_count": 26,
   "id": "d90882ed",
   "metadata": {},
   "outputs": [],
   "source": [
    "corpus = [\n",
    "    \"John likes to watch movies. Mary likes movies too.\",\n",
    "    \"Mary also lines to watch football games.\"\n",
    "]"
   ]
  },
  {
   "cell_type": "code",
   "execution_count": 27,
   "id": "3e3a1c01",
   "metadata": {},
   "outputs": [
    {
     "name": "stdout",
     "output_type": "stream",
     "text": [
      "[[0 0 0 1 2 0 1 2 1 1 1]\n",
      " [1 1 1 0 0 1 1 0 1 0 1]]\n"
     ]
    }
   ],
   "source": [
    "from sklearn.feature_extraction.text import CountVectorizer\n",
    "vectorizer = CountVectorizer()\n",
    "# vectorizer.fit(corpus) # 학습, 변환 모델, 단어 사전을 생성\n",
    "# X = vectorizer.transform(corpus).toarray() # 변환\n",
    "X = vectorizer.fit_transform(corpus).toarray()  # 학습과 변환을 동시에 수행\n",
    "\n",
    "print(X)"
   ]
  },
  {
   "cell_type": "code",
   "execution_count": 28,
   "id": "456c24e6",
   "metadata": {},
   "outputs": [
    {
     "name": "stdout",
     "output_type": "stream",
     "text": [
      "{'john': 3, 'likes': 4, 'to': 8, 'watch': 10, 'movies': 7, 'mary': 6, 'too': 9, 'also': 0, 'lines': 5, 'football': 1, 'games': 2}\n"
     ]
    }
   ],
   "source": [
    "tf_dic = vectorizer.vocabulary_\n",
    "print(tf_dic)"
   ]
  },
  {
   "cell_type": "code",
   "execution_count": 29,
   "id": "b8acdd50",
   "metadata": {},
   "outputs": [
    {
     "name": "stdout",
     "output_type": "stream",
     "text": [
      "{'also': 0, 'football': 1, 'games': 2, 'john': 3, 'likes': 4, 'lines': 5, 'mary': 6, 'movies': 7, 'to': 8, 'too': 9, 'watch': 10}\n",
      "dict_keys(['also', 'football', 'games', 'john', 'likes', 'lines', 'mary', 'movies', 'to', 'too', 'watch'])\n",
      "   also  football  games  john  likes  lines  mary  movies  to  too  watch\n",
      "0     0         0      0     1      2      0     1       2   1    1      1\n",
      "1     1         1      1     0      0      1     1       0   1    0      1\n"
     ]
    }
   ],
   "source": [
    "import pandas as pd\n",
    "tf_dic_sorted = dict(sorted(tf_dic.items(), key=lambda item: item[1]))\n",
    "print(tf_dic_sorted)\n",
    "print(tf_dic_sorted.keys())\n",
    "tdm = pd.DataFrame(X, columns=tf_dic_sorted.keys())\n",
    "print(tdm)"
   ]
  },
  {
   "cell_type": "code",
   "execution_count": 30,
   "id": "cc6b6bf5",
   "metadata": {},
   "outputs": [],
   "source": [
    "## TF-IDF"
   ]
  },
  {
   "cell_type": "code",
   "execution_count": 31,
   "id": "f4891979",
   "metadata": {},
   "outputs": [],
   "source": [
    "corpus = [\n",
    "    \"John likes to watch movies. Mary likes movies too.\",\n",
    "    \"Mary also lines to watch football games.\"\n",
    "]"
   ]
  },
  {
   "cell_type": "code",
   "execution_count": 32,
   "id": "2d3f0c9d",
   "metadata": {},
   "outputs": [
    {
     "name": "stdout",
     "output_type": "stream",
     "text": [
      "[[0.         0.         0.         0.29464404 0.58928809 0.\n",
      "  0.20964166 0.58928809 0.20964166 0.29464404 0.20964166]\n",
      " [0.42567716 0.42567716 0.42567716 0.         0.         0.42567716\n",
      "  0.30287281 0.         0.30287281 0.         0.30287281]]\n"
     ]
    }
   ],
   "source": [
    "from sklearn.feature_extraction.text import TfidfVectorizer\n",
    "vectorizer = TfidfVectorizer()\n",
    "X = vectorizer.fit_transform(corpus).toarray()\n",
    "print(X)"
   ]
  },
  {
   "cell_type": "code",
   "execution_count": 33,
   "id": "451091cf",
   "metadata": {},
   "outputs": [
    {
     "name": "stdout",
     "output_type": "stream",
     "text": [
      "{'john': 3, 'likes': 4, 'to': 8, 'watch': 10, 'movies': 7, 'mary': 6, 'too': 9, 'also': 0, 'lines': 5, 'football': 1, 'games': 2}\n"
     ]
    }
   ],
   "source": [
    "tfidf_dic = vectorizer.vocabulary_\n",
    "print(tfidf_dic)"
   ]
  },
  {
   "cell_type": "code",
   "execution_count": 34,
   "id": "dd00bd5c",
   "metadata": {},
   "outputs": [
    {
     "name": "stdout",
     "output_type": "stream",
     "text": [
      "       also  football     games      john     likes     lines      mary  \\\n",
      "0  0.000000  0.000000  0.000000  0.294644  0.589288  0.000000  0.209642   \n",
      "1  0.425677  0.425677  0.425677  0.000000  0.000000  0.425677  0.302873   \n",
      "\n",
      "     movies        to       too     watch  \n",
      "0  0.589288  0.209642  0.294644  0.209642  \n",
      "1  0.000000  0.302873  0.000000  0.302873  \n"
     ]
    }
   ],
   "source": [
    "tfidf_dic_sorted = dict(sorted(tfidf_dic.items(), key=lambda item: item[1]))\n",
    "tdm = pd.DataFrame(X, columns=tfidf_dic_sorted.keys())\n",
    "print(tdm)"
   ]
  }
 ],
 "metadata": {
  "kernelspec": {
   "display_name": ".venv (3.11.13)",
   "language": "python",
   "name": "python3"
  },
  "language_info": {
   "codemirror_mode": {
    "name": "ipython",
    "version": 3
   },
   "file_extension": ".py",
   "mimetype": "text/x-python",
   "name": "python",
   "nbconvert_exporter": "python",
   "pygments_lexer": "ipython3",
   "version": "3.11.13"
  }
 },
 "nbformat": 4,
 "nbformat_minor": 5
}
