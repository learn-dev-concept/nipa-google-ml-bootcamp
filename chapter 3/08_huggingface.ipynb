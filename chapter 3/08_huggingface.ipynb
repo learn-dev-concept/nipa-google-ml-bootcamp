{
 "cells": [
  {
   "cell_type": "code",
   "execution_count": null,
   "id": "02bdc1fc",
   "metadata": {},
   "outputs": [],
   "source": [
    "# HuggingFace의 모델 사용하기"
   ]
  },
  {
   "cell_type": "code",
   "execution_count": 1,
   "id": "b8d2f3bf",
   "metadata": {},
   "outputs": [
    {
     "name": "stderr",
     "output_type": "stream",
     "text": [
      "/Users/shu/Desktop/Source Code/tensorflow/nipa-google-ml-bootcamp/.venv/lib/python3.11/site-packages/tqdm/auto.py:21: TqdmWarning: IProgress not found. Please update jupyter and ipywidgets. See https://ipywidgets.readthedocs.io/en/stable/user_install.html\n",
      "  from .autonotebook import tqdm as notebook_tqdm\n",
      "Device set to use mps:0\n"
     ]
    },
    {
     "name": "stdout",
     "output_type": "stream",
     "text": [
      "Review: This movie was absolutely fantastic! The acting, the plot, everything was perfect.\n",
      "Sentiment: POSITIVE with score 1.00\n",
      "\n",
      "Review: I did not enjoy this movie at all. The story was predictable and the acting was terrible.\n",
      "Sentiment: NEGATIVE with score 1.00\n",
      "\n",
      "Review: A solid performance by the lead actor, but the plot could have been better.\n",
      "Sentiment: POSITIVE with score 0.68\n",
      "\n",
      "Review: What a waste of time! I can't believe I sat through the whole movie.\n",
      "Sentiment: NEGATIVE with score 1.00\n",
      "\n"
     ]
    }
   ],
   "source": [
    "## 파이프라인을 이용해서 직접 추론하기\n",
    "\n",
    "from transformers import pipeline\n",
    "\n",
    "# 감정 분석 파이프라인 설정\n",
    "sentiment_analysis = pipeline(\"sentiment-analysis\", model=\"distilbert-base-uncased-finetuned-sst-2-english\")\n",
    "\n",
    "# 예시 영화 평\n",
    "reviews = [\n",
    "    \"This movie was absolutely fantastic! The acting, the plot, everything was perfect.\",\n",
    "    \"I did not enjoy this movie at all. The story was predictable and the acting was terrible.\",\n",
    "    \"A solid performance by the lead actor, but the plot could have been better.\",\n",
    "    \"What a waste of time! I can't believe I sat through the whole movie.\"\n",
    "]\n",
    "\n",
    "# 영화 평 분석\n",
    "results = sentiment_analysis(reviews)\n",
    "\n",
    "# 결과 출력\n",
    "for review, result in zip(reviews, results):\n",
    "    print(f\"Review: {review}\\nSentiment: {result['label']} with score {result['score']:.2f}\\n\")"
   ]
  },
  {
   "cell_type": "code",
   "execution_count": 2,
   "id": "6b2ffa86",
   "metadata": {},
   "outputs": [
    {
     "name": "stdout",
     "output_type": "stream",
     "text": [
      "DatasetDict({\n",
      "    train: Dataset({\n",
      "        features: ['text', 'label'],\n",
      "        num_rows: 25000\n",
      "    })\n",
      "    test: Dataset({\n",
      "        features: ['text', 'label'],\n",
      "        num_rows: 25000\n",
      "    })\n",
      "    unsupervised: Dataset({\n",
      "        features: ['text', 'label'],\n",
      "        num_rows: 50000\n",
      "    })\n",
      "})\n"
     ]
    }
   ],
   "source": [
    "## 모델 파인튜닝하기\n",
    "\n",
    "from datasets import load_dataset\n",
    "\n",
    "# IMDb 데이터셋 불러오기\n",
    "dataset = load_dataset(\"imdb\")\n",
    "\n",
    "# 데이터셋 확인\n",
    "print(dataset)"
   ]
  },
  {
   "cell_type": "code",
   "execution_count": 3,
   "id": "ea20f015",
   "metadata": {},
   "outputs": [
    {
     "name": "stderr",
     "output_type": "stream",
     "text": [
      "Map: 100%|██████████| 25000/25000 [00:10<00:00, 2327.72 examples/s]\n"
     ]
    }
   ],
   "source": [
    "from transformers import AutoTokenizer\n",
    "\n",
    "# 토크나이저 설정 (distilbert-base-uncased 사용)\n",
    "tokenizer = AutoTokenizer.from_pretrained(\"distilbert-base-uncased\")\n",
    "\n",
    "# 전처리 함수 정의\n",
    "def preprocess_function(examples):\n",
    "    return tokenizer(examples[\"text\"], truncation=True, padding=\"max_length\", max_length=512)\n",
    "\n",
    "# 데이터셋 전처리\n",
    "tokenized_datasets = dataset.map(preprocess_function, batched=True)"
   ]
  },
  {
   "cell_type": "code",
   "execution_count": 4,
   "id": "2a4607ad",
   "metadata": {},
   "outputs": [
    {
     "name": "stderr",
     "output_type": "stream",
     "text": [
      "Some weights of DistilBertForSequenceClassification were not initialized from the model checkpoint at distilbert-base-uncased and are newly initialized: ['classifier.bias', 'classifier.weight', 'pre_classifier.bias', 'pre_classifier.weight']\n",
      "You should probably TRAIN this model on a down-stream task to be able to use it for predictions and inference.\n"
     ]
    }
   ],
   "source": [
    "from transformers import AutoModelForSequenceClassification\n",
    "\n",
    "# 감정 분석을 위한 DistilBERT 모델 불러오기 (2개의 클래스로 분류)\n",
    "model = AutoModelForSequenceClassification.from_pretrained(\"distilbert-base-uncased\", num_labels=2)"
   ]
  },
  {
   "cell_type": "code",
   "execution_count": 5,
   "id": "bb55f936",
   "metadata": {},
   "outputs": [],
   "source": [
    "from transformers import TrainingArguments, Trainer\n",
    "\n",
    "# 학습 인자 설정\n",
    "training_args = TrainingArguments(\n",
    "    output_dir=\"./results\",             # 출력 디렉토리\n",
    "    learning_rate=2e-5,                 # 학습률\n",
    "    per_device_train_batch_size=16,     # 학습 시 배치 크기\n",
    "    per_device_eval_batch_size=16,      # 평가 시 배치 크기\n",
    "    num_train_epochs=3,                 # 에포크 수\n",
    "    weight_decay=0.01,                  # 가중치 감소 (regularization)\n",
    ")\n",
    "\n",
    "# Trainer 생성\n",
    "trainer = Trainer(\n",
    "    model=model,                        # 학습할 모델\n",
    "    args=training_args,                 # 학습 인자\n",
    "    train_dataset=tokenized_datasets[\"train\"],  # 학습 데이터셋\n",
    "    eval_dataset=tokenized_datasets[\"test\"],    # 평가 데이터셋\n",
    ")"
   ]
  },
  {
   "cell_type": "code",
   "execution_count": null,
   "id": "63bc88a8",
   "metadata": {},
   "outputs": [],
   "source": [
    "# 모델 학습\n",
    "trainer.train()"
   ]
  },
  {
   "cell_type": "code",
   "execution_count": null,
   "id": "aa8b31a6",
   "metadata": {},
   "outputs": [],
   "source": [
    "# 모델 평가\n",
    "results = trainer.evaluate()\n",
    "print(results)"
   ]
  },
  {
   "cell_type": "code",
   "execution_count": null,
   "id": "3c696b7b",
   "metadata": {},
   "outputs": [],
   "source": [
    "## 파인튜닝된 모델 저장하기\n",
    "\n",
    "# 모델과 토크나이저 경로\n",
    "model_path = \"./fine_tuned_distilbert_imdb\"\n",
    "\n",
    "# 모델 저장\n",
    "model.save_pretrained(model_path)\n",
    "tokenizer.save_pretrained(model_path)"
   ]
  }
 ],
 "metadata": {
  "kernelspec": {
   "display_name": ".venv (3.11.13)",
   "language": "python",
   "name": "python3"
  },
  "language_info": {
   "codemirror_mode": {
    "name": "ipython",
    "version": 3
   },
   "file_extension": ".py",
   "mimetype": "text/x-python",
   "name": "python",
   "nbconvert_exporter": "python",
   "pygments_lexer": "ipython3",
   "version": "3.11.13"
  }
 },
 "nbformat": 4,
 "nbformat_minor": 5
}
