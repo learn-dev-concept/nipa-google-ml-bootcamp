{
 "cells": [
  {
   "cell_type": "code",
   "execution_count": null,
   "id": "ffa6578d",
   "metadata": {},
   "outputs": [],
   "source": [
    "# 워드 임베딩"
   ]
  },
  {
   "cell_type": "code",
   "execution_count": null,
   "id": "3652ac36",
   "metadata": {},
   "outputs": [],
   "source": [
    "## Gensim\n",
    "from gensim.models import Word2Vec\n",
    "\n",
    "corpus = [\n",
    "    \"John likes to watch movies. Mary likes movies too\",\n",
    "    \"Mary also likes to watch football games.\"\n",
    "]\n",
    "\n",
    "word_list = []\n",
    "for word in corpus:\n",
    "    word_list.append(word.replace(\",\", \"\").split())\n",
    "\n",
    "model = Word2Vec(word_list, sg=0, vector_size=100, window=3, min_count=1, workers=4)\n",
    "\n",
    "print(model.wv['John'])  # John의 벡터\n",
    "print(model.wv.most_similar('John'))  # John과 유사한 단어들\n",
    "print(model.wv.most_similar('Mary'))  # Mary와 유사한 단어들\n",
    "print(model.wv.similarity('John', 'Mary'))  # John과 Mary의 유사도\n",
    "print(model.wv.similarity('John', 'football'))  # John과 football의 유사도\n",
    "print(model.wv.similarity('John', 'movies'))  # John과 movies의 유사도\n",
    "print(model.wv.similarity('Mary', 'football'))  # Mary와 football의 유사도"
   ]
  }
 ],
 "metadata": {
  "language_info": {
   "name": "python"
  }
 },
 "nbformat": 4,
 "nbformat_minor": 5
}
