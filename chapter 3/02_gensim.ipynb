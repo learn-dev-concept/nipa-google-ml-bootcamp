{
 "cells": [
  {
   "cell_type": "code",
   "execution_count": null,
   "id": "ffa6578d",
   "metadata": {},
   "outputs": [],
   "source": [
    "# 워드 임베딩"
   ]
  },
  {
   "cell_type": "code",
   "execution_count": 1,
   "id": "3652ac36",
   "metadata": {},
   "outputs": [
    {
     "name": "stdout",
     "output_type": "stream",
     "text": [
      "[ 7.0887972e-03 -1.5679300e-03  7.9474989e-03 -9.4886590e-03\n",
      " -8.0294991e-03 -6.6403709e-03 -4.0034545e-03  4.9892161e-03\n",
      " -3.8135587e-03 -8.3199050e-03  8.4117772e-03 -3.7470020e-03\n",
      "  8.6086961e-03 -4.8957514e-03  3.9185942e-03  4.9220170e-03\n",
      "  2.3926091e-03 -2.8188038e-03  2.8491246e-03 -8.2562361e-03\n",
      " -2.7655398e-03 -2.5911583e-03  7.2490061e-03 -3.4634031e-03\n",
      " -6.5997029e-03  4.3404270e-03 -4.7448516e-04 -3.5975564e-03\n",
      "  6.8824720e-03  3.8723124e-03 -3.9002013e-03  7.7188847e-04\n",
      "  9.1435025e-03  7.7546560e-03  6.3618720e-03  4.6673026e-03\n",
      "  2.3844899e-03 -1.8416261e-03 -6.3712932e-03 -3.0181051e-04\n",
      " -1.5653884e-03 -5.7228567e-04 -6.2628710e-03  7.4340473e-03\n",
      " -6.5914928e-03 -7.2392775e-03 -2.7571463e-03 -1.5154004e-03\n",
      " -7.6357173e-03  6.9824100e-04 -5.3261113e-03 -1.2755442e-03\n",
      " -7.3651113e-03  1.9605684e-03  3.2731986e-03 -2.3138524e-05\n",
      " -5.4483581e-03 -1.7260861e-03  7.0849168e-03  3.7362587e-03\n",
      " -8.8810492e-03 -3.4135508e-03  2.3541022e-03  2.1380198e-03\n",
      " -9.4640078e-03  4.5711659e-03 -8.6569972e-03 -7.3870681e-03\n",
      "  3.4831120e-03 -3.4709584e-03  3.5644709e-03  8.8940905e-03\n",
      " -3.5743224e-03  9.3204249e-03  1.7110384e-03  9.8477742e-03\n",
      "  5.7050432e-03 -9.1494834e-03 -3.3277308e-03  6.5301750e-03\n",
      "  5.6027793e-03  8.7055154e-03  6.9261026e-03  8.0388878e-03\n",
      " -9.8230084e-03  4.2988253e-03 -5.0300765e-03  3.5123860e-03\n",
      "  6.0566878e-03  4.3921317e-03  7.5123594e-03  1.4977157e-03\n",
      " -1.2649416e-03  5.7684006e-03 -5.6395675e-03  3.8591625e-05\n",
      "  9.4565870e-03 -5.4812501e-03  3.8142789e-03 -8.1130210e-03]\n",
      "[('too', 0.10889013111591339), ('likes', 0.06285077333450317), ('also', 0.050482068210840225), ('movies', 0.026806801557540894), ('football', 0.020000355318188667), ('movies.', 0.015025213360786438), ('to', 0.012979981489479542), ('watch', -0.10198420286178589), ('Mary', -0.13429954648017883), ('games.', -0.25888729095458984)]\n",
      "[('to', 0.06797193735837936), ('movies', 0.0336402952671051), ('football', 0.009390635415911674), ('games.', 0.004503215197473764), ('likes', -0.01083872839808464), ('watch', -0.023671602830290794), ('movies.', -0.0957527756690979), ('also', -0.1141074150800705), ('too', -0.11555542796850204), ('John', -0.13429956138134003)]\n",
      "-0.13429955\n",
      "0.02000036\n",
      "0.026806809\n",
      "0.009390637\n"
     ]
    }
   ],
   "source": [
    "## Gensim\n",
    "from gensim.models import Word2Vec\n",
    "\n",
    "corpus = [\n",
    "    \"John likes to watch movies. Mary likes movies too\",\n",
    "    \"Mary also likes to watch football games.\"\n",
    "]\n",
    "\n",
    "word_list = []\n",
    "for word in corpus:\n",
    "    word_list.append(word.replace(\",\", \"\").split())\n",
    "\n",
    "model = Word2Vec(word_list, sg=0, vector_size=100, window=3, min_count=1, workers=4)\n",
    "\n",
    "print(model.wv['John'])  # John의 벡터\n",
    "print(model.wv.most_similar('John'))  # John과 유사한 단어들\n",
    "print(model.wv.most_similar('Mary'))  # Mary와 유사한 단어들\n",
    "print(model.wv.similarity('John', 'Mary'))  # John과 Mary의 유사도\n",
    "print(model.wv.similarity('John', 'football'))  # John과 football의 유사도\n",
    "print(model.wv.similarity('John', 'movies'))  # John과 movies의 유사도\n",
    "print(model.wv.similarity('Mary', 'football'))  # Mary와 football의 유사도"
   ]
  }
 ],
 "metadata": {
  "kernelspec": {
   "display_name": ".venv (3.11.13)",
   "language": "python",
   "name": "python3"
  },
  "language_info": {
   "codemirror_mode": {
    "name": "ipython",
    "version": 3
   },
   "file_extension": ".py",
   "mimetype": "text/x-python",
   "name": "python",
   "nbconvert_exporter": "python",
   "pygments_lexer": "ipython3",
   "version": "3.11.13"
  }
 },
 "nbformat": 4,
 "nbformat_minor": 5
}
